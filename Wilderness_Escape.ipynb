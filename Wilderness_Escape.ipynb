print("Once upon a time...")

#Tree node keeps track of a portion of our story
#and the choices a user can make to progress

class TreeNode:
    def __init__(self, story_piece):
        self.story_piece = story_piece
        self.choices = []
        
story_root = TreeNode("""
You are in a forest clearing. There is a path to the left.
A bear emerges from the trees and roars! Do you:
1) Roar back!
2) Run to the left...
""")
print(story_root.story_piece)