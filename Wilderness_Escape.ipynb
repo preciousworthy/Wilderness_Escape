print("Once upon a time...")

#Tree node keeps track of a portion of our story
#and the choices a user can make to progress

class TreeNode:
    def __init__(self, story_piece):
        self.story_piece = story_piece
        self.choices = []
        
    def add_child(self, node):
        self.choices.append(node)
   
#story_root is our root node 
story_root = TreeNode("""
You are in a forest clearing. There is a path to the left.
A bear emerges from the trees and roars! Do you:
1) Roar back!
2) Run to the left...
""")
#print(story_root.story_piece)
#user_choice = input("What is your name? ")
#print(user_choice)
choice_a = TreeNode("""
The bear is startled and runs away.
Do you:
1) Shout 'Sorry bear!'
2) Yell 'Hooray!'
""")
choice_b = TreeNode("""
You come across a clearing full of flowers.
The bear follows you and asks 'what gives?'
Do you:
1) Gasp 'A talking bear!'
2) Explain that the bear scared you
""")
story_root.add_child(choice_a)
story_root.add_child(choice_b)

